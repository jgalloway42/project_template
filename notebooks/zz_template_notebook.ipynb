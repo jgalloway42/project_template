{
 "cells": [
  {
   "cell_type": "markdown",
   "metadata": {},
   "source": [
    "## Imports"
   ]
  },
  {
   "cell_type": "code",
   "execution_count": null,
   "metadata": {},
   "outputs": [],
   "source": [
    "%load_ext autoreload\n",
    "%autoreload 2\n",
    "import sys\n",
    "sys.path.append('../src')\n",
    "\n",
    "# Core data science libraries\n",
    "from generic.preamble import np, pd, plt, sns\n",
    "# Data management and paths\n",
    "from generic.preamble import raw_data, processed_data, models_path\n",
    "from generic.helpers import create_data_catalog\n",
    "\n",
    "# Initialize and display data catalog\n",
    "catalog = create_data_catalog('..')\n",
    "if not catalog.catalog.empty:\n",
    "    display(catalog.summary())\n",
    "    display(catalog.catalog)\n",
    "else:\n",
    "    print(\"No data files found in standard directories\")\n",
    "\n",
    "# file load example\n",
    "# df = catalog.load_file('some_file_name_without_extension')"
   ]
  },
  {
   "cell_type": "markdown",
   "metadata": {},
   "source": [
    "# Notebook Title\n",
    "\n",
    "#### Conda Environment Command Line Setup Script\n",
    "- Open CMD in git repository root (SHIFT+CTRL+P Open Terminal)\n",
    "- Run setup script (in a git-bash terminal, type: `bash scripts/env-setup.sh` on Windows)\n",
    "  - If git-bash can't find conda, make sure it's been initialized `conda init bash` in git-bash terminal.\n",
    "- Follow prompts:\n",
    "  - Enter environment name\n",
    "  - Enter Python version (e.g., 3.9, 3.10, 3.11) or press Enter for latest\n",
    "- Activate if needed after creation by `conda activate ENVNAME`\n",
    "\n",
    "This should create the data directories (raw, processed, interim), a conda environment with basic requirements, and update requirements.txt.\n",
    "\n",
    "**Prerequisites:**\n",
    "- Miniconda or Anaconda installed and available in PATH\n",
    "- requirements.txt file in project root (optional)\n",
    "\n",
    "**Note:** Conda environments are stored in your conda installation directory, not in the project folder, so no gitignore updates are needed."
   ]
  },
  {
   "cell_type": "markdown",
   "metadata": {},
   "source": []
  }
 ],
 "metadata": {
  "kernelspec": {
   "display_name": "VENV",
   "language": "python",
   "name": "python3"
  },
  "language_info": {
   "codemirror_mode": {
    "name": "ipython",
    "version": 3
   },
   "file_extension": ".py",
   "mimetype": "text/x-python",
   "name": "python",
   "nbconvert_exporter": "python",
   "pygments_lexer": "ipython3",
   "version": "3.11.6"
  },
  "orig_nbformat": 4
 },
 "nbformat": 4,
 "nbformat_minor": 2
}
