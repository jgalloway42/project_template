{
 "cells": [
  {
   "cell_type": "markdown",
   "metadata": {},
   "source": [
    "## Imports"
   ]
  },
  {
   "cell_type": "code",
   "execution_count": null,
   "metadata": {},
   "outputs": [],
   "source": [
    "%load_ext autoreload\n",
    "%autoreload 2\n",
    "# add source folders to path\n",
    "import sys,os\n",
    "SRC = '..\\src'\n",
    "src_folders = list(filter(lambda x: os.path.isdir(os.path.join(SRC,x)),os.listdir(SRC)))\n",
    "[sys.path.append(os.path.join(SRC,folder)) for folder in src_folders]\n",
    "\n",
    "# import custom libraries\n",
    "from preamble import *\n",
    "from helpers import save_joblib\n",
    "\n",
    "# notebook imports\n",
    "\n",
    "# custom file paths\n",
    "\n",
    "# get data files\n",
    "files_dict = walk_directory(raw_data)"
   ]
  },
  {
   "cell_type": "markdown",
   "metadata": {},
   "source": [
    "# Notebook Title\n",
    "\n",
    "#### Venv Environtment Command Line Setup Script\n",
    "- Open CMD in git repository root (SHIFT+CTRL+P Open Terminal)\n",
    "- run env-setup.sh (git-bash env-setup.sh on Windoze)\n",
    "- follow prompts\n",
    "- activate if needed after creation by ENVNAME\\Scripts\\activate\n",
    "\n",
    "This should create the data directories, a venv with basic requirements, update gitignore and requirements.txt.\n",
    "\n"
   ]
  },
  {
   "cell_type": "markdown",
   "metadata": {},
   "source": []
  }
 ],
 "metadata": {
  "kernelspec": {
   "display_name": "VENV",
   "language": "python",
   "name": "python3"
  },
  "language_info": {
   "codemirror_mode": {
    "name": "ipython",
    "version": 3
   },
   "file_extension": ".py",
   "mimetype": "text/x-python",
   "name": "python",
   "nbconvert_exporter": "python",
   "pygments_lexer": "ipython3",
   "version": "3.11.6"
  },
  "orig_nbformat": 4
 },
 "nbformat": 4,
 "nbformat_minor": 2
}
