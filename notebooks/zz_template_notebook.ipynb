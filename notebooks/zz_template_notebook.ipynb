{
 "cells": [
  {
   "cell_type": "markdown",
   "metadata": {},
   "source": [
    "## Imports"
   ]
  },
  {
   "cell_type": "code",
   "execution_count": null,
   "metadata": {},
   "outputs": [],
   "source": [
    "%load_ext autoreload\n",
    "%autoreload 2\n",
    "\n",
    "# add source folders to path\n",
    "import sys, os\n",
    "SRC = '../src'\n",
    "if os.path.exists(SRC):\n",
    "    src_folders = list(filter(lambda x: os.path.isdir(os.path.join(SRC, x)), os.listdir(SRC)))\n",
    "    [sys.path.append(os.path.join(SRC, folder)) for folder in src_folders]\n",
    "\n",
    "# import custom libraries\n",
    "from preamble import *\n",
    "from helpers import walk_directory create_data_catalog\n",
    "\n",
    "# notebook imports\n",
    "\n",
    "# custom file paths\n",
    "\n",
    "# initialize data catalog and scan files\n",
    "catalog = create_data_catalog('..')\n",
    "print(\"Data Catalog Summary:\")\n",
    "print(\"=\" * 50)\n",
    "if not catalog.catalog.empty:\n",
    "    display(catalog.summary())\n",
    "    \n",
    "    print(\"\\nAvailable Files:\")\n",
    "    print(\"=\" * 50)\n",
    "    display(catalog.catalog[['basename', 'directory', 'extension', 'size_mb', 'relative_path']].sort_values(['directory', 'basename']))\n",
    "else:\n",
    "    print(\"No data files found in standard directories (data/raw, data/processed, etc.)\")"
   ]
  },
  {
   "cell_type": "markdown",
   "metadata": {},
   "source": [
    "# Notebook Title\n",
    "\n",
    "#### Conda Environment Command Line Setup Script\n",
    "- Open CMD in git repository root (SHIFT+CTRL+P Open Terminal)\n",
    "- Run env-setup.sh (git-bash env-setup.sh on Windows)\n",
    "- Follow prompts:\n",
    "  - Enter environment name\n",
    "  - Enter Python version (e.g., 3.9, 3.10, 3.11) or press Enter for latest\n",
    "- Activate if needed after creation by `conda activate ENVNAME`\n",
    "\n",
    "This should create the data directories (raw, processed, interim), a conda environment with basic requirements, and update requirements.txt.\n",
    "\n",
    "**Prerequisites:**\n",
    "- Miniconda or Anaconda installed and available in PATH\n",
    "- requirements.txt file in project root (optional)\n",
    "\n",
    "**Note:** Conda environments are stored in your conda installation directory, not in the project folder, so no gitignore updates are needed."
   ]
  },
  {
   "cell_type": "markdown",
   "metadata": {},
   "source": []
  }
 ],
 "metadata": {
  "kernelspec": {
   "display_name": "VENV",
   "language": "python",
   "name": "python3"
  },
  "language_info": {
   "codemirror_mode": {
    "name": "ipython",
    "version": 3
   },
   "file_extension": ".py",
   "mimetype": "text/x-python",
   "name": "python",
   "nbconvert_exporter": "python",
   "pygments_lexer": "ipython3",
   "version": "3.11.6"
  },
  "orig_nbformat": 4
 },
 "nbformat": 4,
 "nbformat_minor": 2
}
